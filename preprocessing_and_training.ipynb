{
 "cells": [
  {
   "cell_type": "code",
   "execution_count": 1,
   "id": "9ab66d58",
   "metadata": {},
   "outputs": [],
   "source": [
    "import pandas as pd\n",
    "import numpy as np\n",
    "from sklearn.preprocessing import MinMaxScaler, OneHotEncoder\n",
    "from sklearn.compose import ColumnTransformer\n",
    "from sklearn.ensemble import RandomForestRegressor\n",
    "from sklearn.metrics import mean_absolute_error, mean_squared_error, r2_score\n",
    "import matplotlib.pyplot as plt\n",
    "import joblib\n",
    "import os"
   ]
  },
  {
   "cell_type": "markdown",
   "id": "22e6b303",
   "metadata": {},
   "source": [
    "# --- 1. Load Data ---"
   ]
  },
  {
   "cell_type": "code",
   "execution_count": 2,
   "id": "316831c9",
   "metadata": {},
   "outputs": [
    {
     "name": "stdout",
     "output_type": "stream",
     "text": [
      "Engineered data loaded successfully.\n",
      "Shape: (7818, 29)\n"
     ]
    }
   ],
   "source": [
    "try:\n",
    "    if 'final_df' not in locals():\n",
    "        final_df = pd.read_csv('csv/f1_engineered_features.csv')\n",
    "    print(\"Engineered data loaded successfully.\")\n",
    "    print(f\"Shape: {final_df.shape}\")\n",
    "except FileNotFoundError:\n",
    "    print(\"Error: 'csv/f1_engineered_features.csv' not found. Please run the feature engineering step first.\")\n",
    "except Exception as e:\n",
    "    print(f\"Error loading data: {e}\")"
   ]
  },
  {
   "cell_type": "markdown",
   "id": "e3bf882e",
   "metadata": {},
   "source": [
    "# --- 2. Define Features (X) and Target (y) ---"
   ]
  },
  {
   "cell_type": "code",
   "execution_count": 3,
   "id": "6d12e2a8",
   "metadata": {},
   "outputs": [
    {
     "name": "stdout",
     "output_type": "stream",
     "text": [
      "Target variable (y): FinalPoints\n",
      "Number of features (X): 23\n",
      "Feature columns: ['TeamId', 'RaceCount', 'DidFinish', 'PitLaneStart', 'CumulativePoints', 'AvgPoints', 'AvgFinishPos', 'AvgGridPos', 'AvgPosGained', 'FinishRate', 'DNFCount', 'StdDevFinishPos', 'Wins', 'Podiums', 'Top10s', 'PointsLast5', 'AvgFinishLast5', 'AvgGridLast5', 'FinishRateLast5', 'DNFCountLast5', 'PrevSeasonRank', 'PrevSeasonPoints', 'PrevSeasonWins']\n"
     ]
    }
   ],
   "source": [
    "TARGET_COLUMN = 'FinalPoints'\n",
    "\n",
    "identifier_cols = ['Season', 'Round', 'EventName', 'DriverId']\n",
    "target_cols = ['FinalRank', 'FinalPoints']\n",
    "\n",
    "feature_cols = [col for col in final_df.columns if col not in identifier_cols + target_cols]\n",
    "\n",
    "X = final_df[feature_cols + ['Season']]\n",
    "y = final_df[TARGET_COLUMN]\n",
    "\n",
    "print(f\"Target variable (y): {TARGET_COLUMN}\")\n",
    "print(f\"Number of features (X): {len(feature_cols)}\")\n",
    "print(f\"Feature columns: {feature_cols}\")"
   ]
  },
  {
   "cell_type": "markdown",
   "id": "7c6b6a40",
   "metadata": {},
   "source": [
    "# --- 3. Chronological Split ---"
   ]
  },
  {
   "cell_type": "code",
   "execution_count": 4,
   "id": "0de9d142",
   "metadata": {},
   "outputs": [
    {
     "name": "stdout",
     "output_type": "stream",
     "text": [
      "Training data shape (X): (4437, 23), (y): (4437,)\n",
      "Testing data shape (X): (3381, 23), (y): (3381,)\n",
      "Training seasons: [2020 2021]\n",
      "Testing season: [2022]\n"
     ]
    }
   ],
   "source": [
    "TEST_SEASON = 2022\n",
    "\n",
    "train_indices = X['Season'] < TEST_SEASON\n",
    "test_indices = X['Season'] == TEST_SEASON\n",
    "\n",
    "X_train_raw = X[train_indices].drop(columns=['Season'])\n",
    "X_test_raw = X[test_indices].drop(columns=['Season'])\n",
    "y_train = y[train_indices]\n",
    "y_test = y[test_indices]\n",
    "\n",
    "print(f\"Training data shape (X): {X_train_raw.shape}, (y): {y_train.shape}\")\n",
    "print(f\"Testing data shape (X): {X_test_raw.shape}, (y): {y_test.shape}\")\n",
    "print(f\"Training seasons: {final_df[train_indices]['Season'].unique()}\")\n",
    "print(f\"Testing season: {final_df[test_indices]['Season'].unique()}\")"
   ]
  },
  {
   "cell_type": "markdown",
   "id": "45162d06",
   "metadata": {},
   "source": [
    "# --- 4. Preprocessing Pipeline ---"
   ]
  },
  {
   "cell_type": "code",
   "execution_count": 5,
   "id": "345e2223",
   "metadata": {},
   "outputs": [
    {
     "name": "stdout",
     "output_type": "stream",
     "text": [
      "Categorical features: ['TeamId']\n",
      "Numerical features count: 22\n",
      "Fitting preprocessor on training data...\n",
      "Transforming training and testing data...\n",
      "Total features after preprocessing: 34\n",
      "\n",
      "--- Preprocessing Complete ---\n",
      "Sample of processed training data (X_train):\n",
      "   RaceCount  DidFinish  PitLaneStart  CumulativePoints  AvgPoints  \\\n",
      "0        0.0        0.0           0.0               0.0        0.0   \n",
      "1        0.0        0.0           0.0               0.0        0.0   \n",
      "2        0.0        0.0           0.0               0.0        0.0   \n",
      "3        0.0        1.0           0.0               0.0        0.0   \n",
      "4        0.0        1.0           0.0               0.0        0.0   \n",
      "\n",
      "   AvgFinishPos  AvgGridPos  AvgPosGained  FinishRate  DNFCount  ...  \\\n",
      "0      0.473684         0.5      0.529412         1.0       0.0  ...   \n",
      "1      0.473684         0.5      0.529412         1.0       0.0  ...   \n",
      "2      0.473684         0.5      0.529412         1.0       0.0  ...   \n",
      "3      0.473684         0.5      0.529412         1.0       0.0  ...   \n",
      "4      0.473684         0.5      0.529412         1.0       0.0  ...   \n",
      "\n",
      "   TeamId_alpine  TeamId_aston_martin  TeamId_ferrari  TeamId_haas  \\\n",
      "0            0.0                  0.0             0.0          0.0   \n",
      "1            0.0                  0.0             0.0          0.0   \n",
      "2            0.0                  0.0             0.0          0.0   \n",
      "3            0.0                  0.0             0.0          0.0   \n",
      "4            0.0                  0.0             0.0          0.0   \n",
      "\n",
      "   TeamId_mclaren  TeamId_mercedes  TeamId_racing_point  TeamId_red_bull  \\\n",
      "0             0.0              0.0                  0.0              1.0   \n",
      "1             0.0              0.0                  0.0              1.0   \n",
      "2             0.0              0.0                  0.0              1.0   \n",
      "3             0.0              1.0                  0.0              0.0   \n",
      "4             0.0              1.0                  0.0              0.0   \n",
      "\n",
      "   TeamId_renault  TeamId_williams  \n",
      "0             0.0              0.0  \n",
      "1             0.0              0.0  \n",
      "2             0.0              0.0  \n",
      "3             0.0              0.0  \n",
      "4             0.0              0.0  \n",
      "\n",
      "[5 rows x 34 columns]\n",
      "\n",
      "Checking range of scaled numerical features in X_train (should be ~0 to 1):\n",
      "     RaceCount  DidFinish  PitLaneStart  CumulativePoints  AvgPoints  \\\n",
      "min        0.0        0.0           0.0               0.0        0.0   \n",
      "max        1.0        1.0           1.0               1.0        1.0   \n",
      "\n",
      "     AvgFinishPos  AvgGridPos  AvgPosGained  FinishRate  DNFCount  ...  \\\n",
      "min           0.0         0.0           0.0         0.0       0.0  ...   \n",
      "max           1.0         1.0           1.0         1.0       1.0  ...   \n",
      "\n",
      "     Podiums  Top10s  PointsLast5  AvgFinishLast5  AvgGridLast5  \\\n",
      "min      0.0     0.0          0.0             0.0           0.0   \n",
      "max      1.0     1.0          1.0             1.0           1.0   \n",
      "\n",
      "     FinishRateLast5  DNFCountLast5  PrevSeasonRank  PrevSeasonPoints  \\\n",
      "min              0.0            0.0             0.0               0.0   \n",
      "max              1.0            1.0             1.0               1.0   \n",
      "\n",
      "     PrevSeasonWins  \n",
      "min             0.0  \n",
      "max             1.0  \n",
      "\n",
      "[2 rows x 22 columns]\n",
      "\n",
      "Checking for NaNs in processed data:\n",
      "NaNs in X_train: 0\n",
      "NaNs in X_test: 0\n",
      "NaNs in y_train: 0\n",
      "NaNs in y_test: 0\n"
     ]
    }
   ],
   "source": [
    "categorical_features = ['TeamId']\n",
    "numerical_features = [col for col in X_train_raw.columns if col not in categorical_features]\n",
    "\n",
    "print(f\"Categorical features: {categorical_features}\")\n",
    "print(f\"Numerical features count: {len(numerical_features)}\")\n",
    "\n",
    "preprocessor = ColumnTransformer(\n",
    "    transformers=[\n",
    "        ('num', MinMaxScaler(), numerical_features),\n",
    "        ('cat', OneHotEncoder(handle_unknown='ignore', sparse_output=False), categorical_features)\n",
    "    ],\n",
    "    remainder='passthrough'\n",
    ")\n",
    "\n",
    "print(\"Fitting preprocessor on training data...\")\n",
    "preprocessor.fit(X_train_raw)\n",
    "\n",
    "print(\"Transforming training and testing data...\")\n",
    "X_train_processed = preprocessor.transform(X_train_raw)\n",
    "X_test_processed = preprocessor.transform(X_test_raw)\n",
    "\n",
    "try:\n",
    "    num_feature_names = numerical_features\n",
    "    cat_feature_names = preprocessor.named_transformers_['cat'].get_feature_names_out(categorical_features)\n",
    "    processed_feature_names = num_feature_names + list(cat_feature_names)\n",
    "    print(f\"Total features after preprocessing: {len(processed_feature_names)}\")\n",
    "except Exception as e:\n",
    "    processed_feature_names = None\n",
    "    print(f\"Could not retrieve feature names after preprocessing: {e}\")\n",
    "\n",
    "\n",
    "if processed_feature_names and len(processed_feature_names) == X_train_processed.shape[1]:\n",
    "     X_train = pd.DataFrame(X_train_processed, columns=processed_feature_names, index=X_train_raw.index)\n",
    "     X_test = pd.DataFrame(X_test_processed, columns=processed_feature_names, index=X_test_raw.index)\n",
    "else:\n",
    "     X_train = pd.DataFrame(X_train_processed, index=X_train_raw.index)\n",
    "     X_test = pd.DataFrame(X_test_processed, index=X_test_raw.index)\n",
    "     print(\"Warning: Could not assign column names to processed DataFrames.\")\n",
    "\n",
    "\n",
    "print(\"\\n--- Preprocessing Complete ---\")\n",
    "print(\"Sample of processed training data (X_train):\")\n",
    "print(X_train.head())\n",
    "print(\"\\nChecking range of scaled numerical features in X_train (should be ~0 to 1):\")\n",
    "print(X_train[numerical_features].describe().loc[['min', 'max']])\n",
    "\n",
    "print(\"\\nChecking for NaNs in processed data:\")\n",
    "print(f\"NaNs in X_train: {X_train.isnull().sum().sum()}\")\n",
    "print(f\"NaNs in X_test: {X_test.isnull().sum().sum()}\")\n",
    "print(f\"NaNs in y_train: {y_train.isnull().sum()}\")\n",
    "print(f\"NaNs in y_test: {y_test.isnull().sum()}\")"
   ]
  },
  {
   "cell_type": "markdown",
   "id": "789e5232",
   "metadata": {},
   "source": [
    "# --- 5. Initializing RandomForestRegressor Model ---"
   ]
  },
  {
   "cell_type": "code",
   "execution_count": 6,
   "id": "7a1cc7e1",
   "metadata": {},
   "outputs": [],
   "source": [
    "rf_model = RandomForestRegressor(n_estimators=10000, random_state=68, n_jobs=-1, oob_score=True, max_depth=15, min_samples_split=5, min_samples_leaf=3)"
   ]
  },
  {
   "cell_type": "markdown",
   "id": "a993c33f",
   "metadata": {},
   "source": [
    "# --- 6. Training the Model ---"
   ]
  },
  {
   "cell_type": "code",
   "execution_count": 7,
   "id": "4d829e8e",
   "metadata": {},
   "outputs": [
    {
     "name": "stdout",
     "output_type": "stream",
     "text": [
      "Model Out-of-Bag (OOB) R^2 Score: 0.9967\n"
     ]
    }
   ],
   "source": [
    "rf_model.fit(X_train, y_train)\n",
    "\n",
    "if hasattr(rf_model, 'oob_score_') and rf_model.oob_score:\n",
    "    print(f\"Model Out-of-Bag (OOB) R^2 Score: {rf_model.oob_score_:.4f}\")"
   ]
  },
  {
   "cell_type": "markdown",
   "id": "b013b134",
   "metadata": {},
   "source": [
    "# --- 7. Predictions ---"
   ]
  },
  {
   "cell_type": "code",
   "execution_count": 8,
   "id": "f49fae3d",
   "metadata": {},
   "outputs": [],
   "source": [
    "y_pred = rf_model.predict(X_test)"
   ]
  },
  {
   "cell_type": "markdown",
   "id": "190739b7",
   "metadata": {},
   "source": [
    "# --- 8. Evaluate the Model ---"
   ]
  },
  {
   "cell_type": "code",
   "execution_count": 9,
   "id": "ef6275c6",
   "metadata": {},
   "outputs": [
    {
     "name": "stdout",
     "output_type": "stream",
     "text": [
      "Target Variable: FinalPoints\n",
      "Mean Absolute Error (MAE): 51.28 points\n",
      "Mean Squared Error (MSE): 5223.00\n",
      "Root Mean Squared Error (RMSE): 72.27 points\n",
      "R-squared (R²): 0.7107\n"
     ]
    }
   ],
   "source": [
    "mae = mean_absolute_error(y_test, y_pred)\n",
    "mse = mean_squared_error(y_test, y_pred)\n",
    "rmse = np.sqrt(mse)\n",
    "r2 = r2_score(y_test, y_pred)\n",
    "\n",
    "print(f\"Target Variable: {TARGET_COLUMN}\")\n",
    "print(f\"Mean Absolute Error (MAE): {mae:.2f} points\")\n",
    "print(f\"Mean Squared Error (MSE): {mse:.2f}\")\n",
    "print(f\"Root Mean Squared Error (RMSE): {rmse:.2f} points\")\n",
    "print(f\"R-squared (R²): {r2:.4f}\")"
   ]
  },
  {
   "cell_type": "markdown",
   "id": "34a66621",
   "metadata": {},
   "source": [
    "# --- 9. Feature Importances ---"
   ]
  },
  {
   "cell_type": "code",
   "execution_count": 10,
   "id": "66377863",
   "metadata": {},
   "outputs": [
    {
     "name": "stdout",
     "output_type": "stream",
     "text": [
      "Top 20 Features:\n",
      "              Feature  Importance\n",
      "4           AvgPoints    0.378603\n",
      "6          AvgGridPos    0.237898\n",
      "19     PrevSeasonRank    0.162376\n",
      "20   PrevSeasonPoints    0.083560\n",
      "21     PrevSeasonWins    0.074945\n",
      "5        AvgFinishPos    0.016248\n",
      "29    TeamId_mercedes    0.016037\n",
      "31    TeamId_red_bull    0.004169\n",
      "3    CumulativePoints    0.003383\n",
      "11               Wins    0.003189\n",
      "14        PointsLast5    0.002860\n",
      "26     TeamId_ferrari    0.002402\n",
      "10    StdDevFinishPos    0.002314\n",
      "24      TeamId_alpine    0.001326\n",
      "7        AvgPosGained    0.001326\n",
      "28     TeamId_mclaren    0.001277\n",
      "0           RaceCount    0.001098\n",
      "16       AvgGridLast5    0.001027\n",
      "23  TeamId_alphatauri    0.000726\n",
      "22        TeamId_alfa    0.000673\n"
     ]
    },
    {
     "data": {
      "image/png": "[encoded data removed]",
      "text/plain": [
       "<Figure size 1000x800 with 1 Axes>"
      ]
     },
     "metadata": {},
     "output_type": "display_data"
    }
   ],
   "source": [
    "if 'processed_feature_names' in locals() and processed_feature_names is not None:\n",
    "    importances = rf_model.feature_importances_\n",
    "    feature_importance_df = pd.DataFrame({\n",
    "        'Feature': processed_feature_names,\n",
    "        'Importance': importances\n",
    "    }).sort_values(by='Importance', ascending=False)\n",
    "\n",
    "    print(\"Top 20 Features:\")\n",
    "    print(feature_importance_df.head(20))\n",
    "\n",
    "    plt.figure(figsize=(10, 8))\n",
    "    plt.barh(feature_importance_df['Feature'][:20], feature_importance_df['Importance'][:20])\n",
    "    plt.xlabel(\"Random Forest Feature Importance\")\n",
    "    plt.ylabel(\"Feature\")\n",
    "    plt.title(\"Top 20 Feature Importances\")\n",
    "    plt.gca().invert_yaxis()\n",
    "    plt.tight_layout()\n",
    "    plt.show()\n",
    "\n",
    "else:\n",
    "    print(\"Could not display feature importances because feature names were not available.\")"
   ]
  },
  {
   "cell_type": "markdown",
   "id": "21767e8a",
   "metadata": {},
   "source": [
    "# --- 10. Look at Predictions vs Actuals (Sample) ---"
   ]
  },
  {
   "cell_type": "code",
   "execution_count": 13,
   "id": "0e87d3aa",
   "metadata": {},
   "outputs": [
    {
     "name": "stdout",
     "output_type": "stream",
     "text": [
      "\n",
      "--- Sample Predictions vs Actuals ---\n",
      "Sample results for the last round (Round 22) of the test season (2022):\n"
     ]
    },
    {
     "data": {
      "application/vnd.microsoft.datawrangler.viewer.v0+json": {
       "columns": [
        {
         "name": "index",
         "rawType": "int64",
         "type": "integer"
        },
        {
         "name": "DriverId",
         "rawType": "object",
         "type": "string"
        },
        {
         "name": "TeamId",
         "rawType": "object",
         "type": "string"
        },
        {
         "name": "Season",
         "rawType": "int64",
         "type": "integer"
        },
        {
         "name": "Round",
         "rawType": "int64",
         "type": "integer"
        },
        {
         "name": "ActualPoints",
         "rawType": "float64",
         "type": "float"
        },
        {
         "name": "PredictedPoints",
         "rawType": "float64",
         "type": "float"
        }
       ],
       "conversionMethod": "pd.DataFrame",
       "ref": "6aff7459-82c0-4570-ac4d-b19474fec8f5",
       "rows": [
        [
         "8",
         "max_verstappen",
         "red_bull",
         "2022",
         "22",
         "454.0",
         "352.14715895132633"
        ],
        [
         "7",
         "leclerc",
         "ferrari",
         "2022",
         "22",
         "308.0",
         "159.90383489357848"
        ],
        [
         "12",
         "perez",
         "red_bull",
         "2022",
         "22",
         "305.0",
         "219.05183125554902"
        ],
        [
         "14",
         "russell",
         "mercedes",
         "2022",
         "22",
         "275.0",
         "235.02591794825133"
        ],
        [
         "15",
         "sainz",
         "ferrari",
         "2022",
         "22",
         "246.0",
         "147.0802781818182"
        ],
        [
         "4",
         "hamilton",
         "mercedes",
         "2022",
         "22",
         "240.0",
         "274.79270865440117"
        ],
        [
         "10",
         "norris",
         "mclaren",
         "2022",
         "22",
         "122.0",
         "136.76049"
        ],
        [
         "11",
         "ocon",
         "alpine",
         "2022",
         "22",
         "92.0",
         "80.420609022816"
        ],
        [
         "1",
         "alonso",
         "alpine",
         "2022",
         "22",
         "81.0",
         "116.20094633012319"
        ],
        [
         "2",
         "bottas",
         "alfa",
         "2022",
         "22",
         "49.0",
         "245.91304871731927"
        ],
        [
         "18",
         "vettel",
         "aston_martin",
         "2022",
         "22",
         "37.0",
         "37.881284541660236"
        ],
        [
         "13",
         "ricciardo",
         "mclaren",
         "2022",
         "22",
         "37.0",
         "131.26251457686638"
        ],
        [
         "5",
         "kevin_magnussen",
         "haas",
         "2022",
         "22",
         "25.0",
         "22.143295556077067"
        ],
        [
         "3",
         "gasly",
         "alphatauri",
         "2022",
         "22",
         "23.0",
         "68.1685965089894"
        ],
        [
         "16",
         "stroll",
         "aston_martin",
         "2022",
         "22",
         "18.0",
         "48.721909651579494"
        ],
        [
         "17",
         "tsunoda",
         "alphatauri",
         "2022",
         "22",
         "12.0",
         "50.45589575341325"
        ],
        [
         "9",
         "mick_schumacher",
         "haas",
         "2022",
         "22",
         "12.0",
         "8.207341095785965"
        ],
        [
         "19",
         "zhou",
         "alfa",
         "2022",
         "22",
         "6.0",
         "2.2174233577766667"
        ],
        [
         "0",
         "albon",
         "williams",
         "2022",
         "22",
         "4.0",
         "2.996359401205293"
        ],
        [
         "6",
         "latifi",
         "williams",
         "2022",
         "22",
         "2.0",
         "9.625108305564002"
        ]
       ],
       "shape": {
        "columns": 6,
        "rows": 20
       }
      },
      "text/html": [
       "<div>\n",
       "<style scoped>\n",
       "    .dataframe tbody tr th:only-of-type {\n",
       "        vertical-align: middle;\n",
       "    }\n",
       "\n",
       "    .dataframe tbody tr th {\n",
       "        vertical-align: top;\n",
       "    }\n",
       "\n",
       "    .dataframe thead th {\n",
       "        text-align: right;\n",
       "    }\n",
       "</style>\n",
       "<table border=\"1\" class=\"dataframe\">\n",
       "  <thead>\n",
       "    <tr style=\"text-align: right;\">\n",
       "      <th></th>\n",
       "      <th>DriverId</th>\n",
       "      <th>TeamId</th>\n",
       "      <th>Season</th>\n",
       "      <th>Round</th>\n",
       "      <th>ActualPoints</th>\n",
       "      <th>PredictedPoints</th>\n",
       "    </tr>\n",
       "  </thead>\n",
       "  <tbody>\n",
       "    <tr>\n",
       "      <th>8</th>\n",
       "      <td>max_verstappen</td>\n",
       "      <td>red_bull</td>\n",
       "      <td>2022</td>\n",
       "      <td>22</td>\n",
       "      <td>454.0</td>\n",
       "      <td>352.147159</td>\n",
       "    </tr>\n",
       "    <tr>\n",
       "      <th>7</th>\n",
       "      <td>leclerc</td>\n",
       "      <td>ferrari</td>\n",
       "      <td>2022</td>\n",
       "      <td>22</td>\n",
       "      <td>308.0</td>\n",
       "      <td>159.903835</td>\n",
       "    </tr>\n",
       "    <tr>\n",
       "      <th>12</th>\n",
       "      <td>perez</td>\n",
       "      <td>red_bull</td>\n",
       "      <td>2022</td>\n",
       "      <td>22</td>\n",
       "      <td>305.0</td>\n",
       "      <td>219.051831</td>\n",
       "    </tr>\n",
       "    <tr>\n",
       "      <th>14</th>\n",
       "      <td>russell</td>\n",
       "      <td>mercedes</td>\n",
       "      <td>2022</td>\n",
       "      <td>22</td>\n",
       "      <td>275.0</td>\n",
       "      <td>235.025918</td>\n",
       "    </tr>\n",
       "    <tr>\n",
       "      <th>15</th>\n",
       "      <td>sainz</td>\n",
       "      <td>ferrari</td>\n",
       "      <td>2022</td>\n",
       "      <td>22</td>\n",
       "      <td>246.0</td>\n",
       "      <td>147.080278</td>\n",
       "    </tr>\n",
       "    <tr>\n",
       "      <th>4</th>\n",
       "      <td>hamilton</td>\n",
       "      <td>mercedes</td>\n",
       "      <td>2022</td>\n",
       "      <td>22</td>\n",
       "      <td>240.0</td>\n",
       "      <td>274.792709</td>\n",
       "    </tr>\n",
       "    <tr>\n",
       "      <th>10</th>\n",
       "      <td>norris</td>\n",
       "      <td>mclaren</td>\n",
       "      <td>2022</td>\n",
       "      <td>22</td>\n",
       "      <td>122.0</td>\n",
       "      <td>136.760490</td>\n",
       "    </tr>\n",
       "    <tr>\n",
       "      <th>11</th>\n",
       "      <td>ocon</td>\n",
       "      <td>alpine</td>\n",
       "      <td>2022</td>\n",
       "      <td>22</td>\n",
       "      <td>92.0</td>\n",
       "      <td>80.420609</td>\n",
       "    </tr>\n",
       "    <tr>\n",
       "      <th>1</th>\n",
       "      <td>alonso</td>\n",
       "      <td>alpine</td>\n",
       "      <td>2022</td>\n",
       "      <td>22</td>\n",
       "      <td>81.0</td>\n",
       "      <td>116.200946</td>\n",
       "    </tr>\n",
       "    <tr>\n",
       "      <th>2</th>\n",
       "      <td>bottas</td>\n",
       "      <td>alfa</td>\n",
       "      <td>2022</td>\n",
       "      <td>22</td>\n",
       "      <td>49.0</td>\n",
       "      <td>245.913049</td>\n",
       "    </tr>\n",
       "    <tr>\n",
       "      <th>18</th>\n",
       "      <td>vettel</td>\n",
       "      <td>aston_martin</td>\n",
       "      <td>2022</td>\n",
       "      <td>22</td>\n",
       "      <td>37.0</td>\n",
       "      <td>37.881285</td>\n",
       "    </tr>\n",
       "    <tr>\n",
       "      <th>13</th>\n",
       "      <td>ricciardo</td>\n",
       "      <td>mclaren</td>\n",
       "      <td>2022</td>\n",
       "      <td>22</td>\n",
       "      <td>37.0</td>\n",
       "      <td>131.262515</td>\n",
       "    </tr>\n",
       "    <tr>\n",
       "      <th>5</th>\n",
       "      <td>kevin_magnussen</td>\n",
       "      <td>haas</td>\n",
       "      <td>2022</td>\n",
       "      <td>22</td>\n",
       "      <td>25.0</td>\n",
       "      <td>22.143296</td>\n",
       "    </tr>\n",
       "    <tr>\n",
       "      <th>3</th>\n",
       "      <td>gasly</td>\n",
       "      <td>alphatauri</td>\n",
       "      <td>2022</td>\n",
       "      <td>22</td>\n",
       "      <td>23.0</td>\n",
       "      <td>68.168597</td>\n",
       "    </tr>\n",
       "    <tr>\n",
       "      <th>16</th>\n",
       "      <td>stroll</td>\n",
       "      <td>aston_martin</td>\n",
       "      <td>2022</td>\n",
       "      <td>22</td>\n",
       "      <td>18.0</td>\n",
       "      <td>48.721910</td>\n",
       "    </tr>\n",
       "    <tr>\n",
       "      <th>17</th>\n",
       "      <td>tsunoda</td>\n",
       "      <td>alphatauri</td>\n",
       "      <td>2022</td>\n",
       "      <td>22</td>\n",
       "      <td>12.0</td>\n",
       "      <td>50.455896</td>\n",
       "    </tr>\n",
       "    <tr>\n",
       "      <th>9</th>\n",
       "      <td>mick_schumacher</td>\n",
       "      <td>haas</td>\n",
       "      <td>2022</td>\n",
       "      <td>22</td>\n",
       "      <td>12.0</td>\n",
       "      <td>8.207341</td>\n",
       "    </tr>\n",
       "    <tr>\n",
       "      <th>19</th>\n",
       "      <td>zhou</td>\n",
       "      <td>alfa</td>\n",
       "      <td>2022</td>\n",
       "      <td>22</td>\n",
       "      <td>6.0</td>\n",
       "      <td>2.217423</td>\n",
       "    </tr>\n",
       "    <tr>\n",
       "      <th>0</th>\n",
       "      <td>albon</td>\n",
       "      <td>williams</td>\n",
       "      <td>2022</td>\n",
       "      <td>22</td>\n",
       "      <td>4.0</td>\n",
       "      <td>2.996359</td>\n",
       "    </tr>\n",
       "    <tr>\n",
       "      <th>6</th>\n",
       "      <td>latifi</td>\n",
       "      <td>williams</td>\n",
       "      <td>2022</td>\n",
       "      <td>22</td>\n",
       "      <td>2.0</td>\n",
       "      <td>9.625108</td>\n",
       "    </tr>\n",
       "  </tbody>\n",
       "</table>\n",
       "</div>"
      ],
      "text/plain": [
       "           DriverId        TeamId  Season  Round  ActualPoints  \\\n",
       "8    max_verstappen      red_bull    2022     22         454.0   \n",
       "7           leclerc       ferrari    2022     22         308.0   \n",
       "12            perez      red_bull    2022     22         305.0   \n",
       "14          russell      mercedes    2022     22         275.0   \n",
       "15            sainz       ferrari    2022     22         246.0   \n",
       "4          hamilton      mercedes    2022     22         240.0   \n",
       "10           norris       mclaren    2022     22         122.0   \n",
       "11             ocon        alpine    2022     22          92.0   \n",
       "1            alonso        alpine    2022     22          81.0   \n",
       "2            bottas          alfa    2022     22          49.0   \n",
       "18           vettel  aston_martin    2022     22          37.0   \n",
       "13        ricciardo       mclaren    2022     22          37.0   \n",
       "5   kevin_magnussen          haas    2022     22          25.0   \n",
       "3             gasly    alphatauri    2022     22          23.0   \n",
       "16           stroll  aston_martin    2022     22          18.0   \n",
       "17          tsunoda    alphatauri    2022     22          12.0   \n",
       "9   mick_schumacher          haas    2022     22          12.0   \n",
       "19             zhou          alfa    2022     22           6.0   \n",
       "0             albon      williams    2022     22           4.0   \n",
       "6            latifi      williams    2022     22           2.0   \n",
       "\n",
       "    PredictedPoints  \n",
       "8        352.147159  \n",
       "7        159.903835  \n",
       "12       219.051831  \n",
       "14       235.025918  \n",
       "15       147.080278  \n",
       "4        274.792709  \n",
       "10       136.760490  \n",
       "11        80.420609  \n",
       "1        116.200946  \n",
       "2        245.913049  \n",
       "18        37.881285  \n",
       "13       131.262515  \n",
       "5         22.143296  \n",
       "3         68.168597  \n",
       "16        48.721910  \n",
       "17        50.455896  \n",
       "9          8.207341  \n",
       "19         2.217423  \n",
       "0          2.996359  \n",
       "6          9.625108  "
      ]
     },
     "execution_count": 13,
     "metadata": {},
     "output_type": "execute_result"
    }
   ],
   "source": [
    "print(\"\\n--- Sample Predictions vs Actuals ---\")\n",
    "results_df = pd.DataFrame({'ActualPoints': y_test, 'PredictedPoints': y_pred})\n",
    "results_df = final_df.loc[y_test.index, ['Season', 'Round', 'DriverId', 'TeamId']].join(results_df)\n",
    "last_round = results_df['Round'].max()\n",
    "print(f\"Sample results for the last round (Round {last_round}) of the test season ({TEST_SEASON}):\")\n",
    "aggregated_results = results_df[results_df['Round'] == last_round].groupby(\n",
    "    ['DriverId', 'TeamId', 'Season', 'Round']\n",
    ").agg({\n",
    "    'ActualPoints': 'first',\n",
    "    'PredictedPoints': 'mean'\n",
    "}).reset_index().sort_values(by='ActualPoints', ascending=False)\n",
    "aggregated_results"
   ]
  },
  {
   "cell_type": "markdown",
   "id": "9fbcf94f",
   "metadata": {},
   "source": [
    "# --- 11. Save model to a file ---"
   ]
  },
  {
   "cell_type": "code",
   "execution_count": 12,
   "id": "cef25ece",
   "metadata": {},
   "outputs": [
    {
     "name": "stdout",
     "output_type": "stream",
     "text": [
      "Trained model saved to: model_artifacts\\trained_f1_model_1.joblib\n",
      "Fitted preprocessor saved to: model_artifacts\\fitted_f1_preprocessor_1.joblib\n",
      "Processed feature names saved to: model_artifacts\\processed_feature_names_1.joblib\n",
      "Raw feature columns for preprocessor input saved to: model_artifacts\\raw_feature_cols_for_preprocessor_1.joblib\n"
     ]
    }
   ],
   "source": [
    "MODEL_ARTIFACTS_DIR = 'model_artifacts'\n",
    "if not os.path.exists(MODEL_ARTIFACTS_DIR):\n",
    "    os.makedirs(MODEL_ARTIFACTS_DIR)\n",
    "\n",
    "try:\n",
    "    model_path = os.path.join(MODEL_ARTIFACTS_DIR, 'trained_f1_model_1.joblib')\n",
    "    joblib.dump(rf_model, model_path)\n",
    "    print(f\"Trained model saved to: {model_path}\")\n",
    "\n",
    "    preprocessor_path = os.path.join(MODEL_ARTIFACTS_DIR, 'fitted_f1_preprocessor_1.joblib')\n",
    "    joblib.dump(preprocessor, preprocessor_path)\n",
    "    print(f\"Fitted preprocessor saved to: {preprocessor_path}\")\n",
    "\n",
    "    if 'processed_feature_names' in locals() and processed_feature_names is not None:\n",
    "        feature_names_path = os.path.join(MODEL_ARTIFACTS_DIR, 'processed_feature_names_1.joblib')\n",
    "        joblib.dump(processed_feature_names, feature_names_path)\n",
    "        print(f\"Processed feature names saved to: {feature_names_path}\")\n",
    "    else:\n",
    "        print(\"Warning: 'processed_feature_names' not found. Cannot save feature names.\")\n",
    "        print(\"Ensure this list is available from your preprocessing step (X_train.columns).\")\n",
    "\n",
    "    raw_feature_cols_for_prediction = X_train_raw.columns.tolist()\n",
    "    raw_feature_names_path = os.path.join(MODEL_ARTIFACTS_DIR, 'raw_feature_cols_for_preprocessor_1.joblib')\n",
    "    joblib.dump(raw_feature_cols_for_prediction, raw_feature_names_path)\n",
    "    print(f\"Raw feature columns for preprocessor input saved to: {raw_feature_names_path}\")\n",
    "\n",
    "\n",
    "except Exception as e:\n",
    "    print(f\"Error saving model artifacts: {e}\")"
   ]
  }
 ],
 "metadata": {
  "kernelspec": {
   "display_name": "Python 3",
   "language": "python",
   "name": "python3"
  },
  "language_info": {
   "codemirror_mode": {
    "name": "ipython",
    "version": 3
   },
   "file_extension": ".py",
   "mimetype": "text/x-python",
   "name": "python",
   "nbconvert_exporter": "python",
   "pygments_lexer": "ipython3",
   "version": "3.13.2"
  }
 },
 "nbformat": 4,
 "nbformat_minor": 5
}
