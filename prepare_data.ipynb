{
 "cells": [
  {
   "cell_type": "code",
   "execution_count": 1,
   "id": "0596aaef",
   "metadata": {},
   "outputs": [],
   "source": [
    "import pandas as pd\n"
   ]
  },
  {
   "cell_type": "markdown",
   "id": "d7ea3543",
   "metadata": {},
   "source": [
    "# --- 1. Load Data ---"
   ]
  },
  {
   "cell_type": "code",
   "execution_count": 2,
   "id": "8b5d2be4",
   "metadata": {},
   "outputs": [
    {
     "name": "stdout",
     "output_type": "stream",
     "text": [
      "Data loaded successfully.\n",
      "Race DF shape: (880, 12)\n",
      "Standings DF shape: (66, 18)\n"
     ]
    }
   ],
   "source": [
    "try:\n",
    "    race_df = pd.read_csv('csv/f1_race_data_raw.csv')\n",
    "    standings_df = pd.read_csv('csv/f1_standings_data_raw.csv')\n",
    "    print(\"Data loaded successfully.\")\n",
    "    print(f\"Race DF shape: {race_df.shape}\")\n",
    "    print(f\"Standings DF shape: {standings_df.shape}\")\n",
    "except FileNotFoundError:\n",
    "    print(\"Error: CSV files not found. Make sure you ran the data collection script.\")\n",
    "except Exception as e:\n",
    "    print(f\"Error loading data: {e}\")"
   ]
  },
  {
   "cell_type": "code",
   "execution_count": 3,
   "id": "8807e079",
   "metadata": {},
   "outputs": [
    {
     "name": "stdout",
     "output_type": "stream",
     "text": [
      "\n",
      "Initial Race DF Info:\n",
      "<class 'pandas.core.frame.DataFrame'>\n",
      "RangeIndex: 880 entries, 0 to 879\n",
      "Data columns (total 12 columns):\n",
      " #   Column           Non-Null Count  Dtype  \n",
      "---  ------           --------------  -----  \n",
      " 0   Season           880 non-null    int64  \n",
      " 1   Round            880 non-null    int64  \n",
      " 2   EventName        880 non-null    object \n",
      " 3   Driver           880 non-null    object \n",
      " 4   DriverId         880 non-null    object \n",
      " 5   TeamId           880 non-null    object \n",
      " 6   GridPosition     878 non-null    float64\n",
      " 7   FinishPosition   878 non-null    float64\n",
      " 8   PositionsGained  874 non-null    float64\n",
      " 9   PointsGained     880 non-null    float64\n",
      " 10  AvgLapTimeSec    860 non-null    float64\n",
      " 11  Status           880 non-null    object \n",
      "dtypes: float64(5), int64(2), object(5)\n",
      "memory usage: 82.6+ KB\n",
      "\n",
      "Sample Race DF Head:\n",
      "   Season  Round           EventName Driver        DriverId        TeamId  \\\n",
      "0    2023      1  Bahrain Grand Prix    VER  max_verstappen      red_bull   \n",
      "1    2023      1  Bahrain Grand Prix    PER           perez      red_bull   \n",
      "2    2023      1  Bahrain Grand Prix    ALO          alonso  aston_martin   \n",
      "3    2023      1  Bahrain Grand Prix    SAI           sainz       ferrari   \n",
      "4    2023      1  Bahrain Grand Prix    HAM        hamilton      mercedes   \n",
      "\n",
      "   GridPosition  FinishPosition  PositionsGained  PointsGained  AvgLapTimeSec  \\\n",
      "0           1.0             1.0              0.0          25.0      98.890105   \n",
      "1           2.0             2.0              0.0          18.0      99.100403   \n",
      "2           5.0             3.0              2.0          15.0      99.567947   \n",
      "3           4.0             4.0              0.0          12.0      99.733122   \n",
      "4           7.0             5.0              2.0          10.0      99.784438   \n",
      "\n",
      "     Status  \n",
      "0  Finished  \n",
      "1  Finished  \n",
      "2  Finished  \n",
      "3  Finished  \n",
      "4  Finished  \n",
      "\n",
      "Sample Standings DF Head:\n",
      "   Season  position  points  wins        DriverId  constructorNames\n",
      "0    2023         1   575.0    19  max_verstappen      ['Red Bull']\n",
      "1    2023         2   285.0     2           perez      ['Red Bull']\n",
      "2    2023         3   234.0     0        hamilton      ['Mercedes']\n",
      "3    2023         4   206.0     0          alonso  ['Aston Martin']\n",
      "4    2023         5   206.0     0         leclerc       ['Ferrari']\n"
     ]
    }
   ],
   "source": [
    "print(\"\\nInitial Race DF Info:\")\n",
    "race_df.info()\n",
    "print(\"\\nSample Race DF Head:\")\n",
    "print(race_df.head())\n",
    "print(\"\\nSample Standings DF Head:\")\n",
    "print(standings_df[['Season', 'position', 'points', 'wins', 'DriverId', 'constructorNames']].head())"
   ]
  },
  {
   "cell_type": "markdown",
   "id": "41185356",
   "metadata": {},
   "source": [
    "# --- 2. Data Cleaning & Preparation ---"
   ]
  },
  {
   "cell_type": "code",
   "execution_count": 4,
   "id": "5ec77016",
   "metadata": {},
   "outputs": [
    {
     "name": "stdout",
     "output_type": "stream",
     "text": [
      "Dropped 2 rows with NaNs in essential columns (e.g., FinishPosition).\n"
     ]
    }
   ],
   "source": [
    "cols_to_check = ['FinishPosition', 'GridPosition', 'PointsGained']\n",
    "original_rows = len(race_df)\n",
    "race_df.dropna(subset=cols_to_check, how='any', inplace=True)\n",
    "print(f\"Dropped {original_rows - len(race_df)} rows with NaNs in essential columns (e.g., FinishPosition).\")"
   ]
  },
  {
   "cell_type": "code",
   "execution_count": 5,
   "id": "4ed76a71",
   "metadata": {},
   "outputs": [
    {
     "name": "stdout",
     "output_type": "stream",
     "text": [
      "Converted numeric columns, coercing errors.\n"
     ]
    }
   ],
   "source": [
    "numeric_cols = ['GridPosition', 'FinishPosition', 'PositionsGained', 'PointsGained', 'AvgLapTimeSec']\n",
    "for col in numeric_cols:\n",
    "    race_df[col] = pd.to_numeric(race_df[col], errors='coerce')\n",
    "print(\"Converted numeric columns, coercing errors.\")"
   ]
  },
  {
   "cell_type": "code",
   "execution_count": 6,
   "id": "c9960cb5",
   "metadata": {},
   "outputs": [
    {
     "name": "stdout",
     "output_type": "stream",
     "text": [
      "Handled GridPosition=0 (PitLaneStart), created GridPositionCalc.\n"
     ]
    }
   ],
   "source": [
    "max_grid_per_round = race_df.groupby(['Season', 'Round'])['GridPosition'].transform('max')\n",
    "race_df['PitLaneStart'] = (race_df['GridPosition'] == 0).astype(int)\n",
    "\n",
    "race_df['GridPositionCalc'] = race_df['GridPosition']\n",
    "\n",
    "race_df.loc[race_df['GridPosition'] == 0, 'GridPositionCalc'] = race_df.loc[race_df['GridPosition'] == 0, 'GridPosition'].index.map(lambda idx: max_grid_per_round[idx] + 1)\n",
    "\n",
    "print(\"Handled GridPosition=0 (PitLaneStart), created GridPositionCalc.\")"
   ]
  },
  {
   "cell_type": "code",
   "execution_count": 7,
   "id": "26a226a8",
   "metadata": {},
   "outputs": [
    {
     "name": "stdout",
     "output_type": "stream",
     "text": [
      "Recalculated PositionsGained.\n"
     ]
    }
   ],
   "source": [
    "race_df['PositionsGained'] = race_df['GridPositionCalc'] - race_df['FinishPosition']\n",
    "print(\"Recalculated PositionsGained.\")"
   ]
  },
  {
   "cell_type": "code",
   "execution_count": 8,
   "id": "1ec9c025",
   "metadata": {},
   "outputs": [
    {
     "name": "stdout",
     "output_type": "stream",
     "text": [
      "Imputing NaNs in AvgLapTimeSec with race median...\n",
      "Remaining AvgLapTimeSec NaNs filled with global median: 92.340\n"
     ]
    },
    {
     "name": "stderr",
     "output_type": "stream",
     "text": [
      "C:\\Users\\domin\\AppData\\Local\\Temp\\ipykernel_28128\\1864501172.py:4: FutureWarning: A value is trying to be set on a copy of a DataFrame or Series through chained assignment using an inplace method.\n",
      "The behavior will change in pandas 3.0. This inplace method will never work because the intermediate object on which we are setting values always behaves as a copy.\n",
      "\n",
      "For example, when doing 'df[col].method(value, inplace=True)', try using 'df.method({col: value}, inplace=True)' or df[col] = df[col].method(value) instead, to perform the operation inplace on the original object.\n",
      "\n",
      "\n",
      "  race_df['AvgLapTimeSec'].fillna(global_median_laptime, inplace=True)\n"
     ]
    }
   ],
   "source": [
    "print(\"Imputing NaNs in AvgLapTimeSec with race median...\")\n",
    "race_df['AvgLapTimeSec'] = race_df.groupby(['Season', 'Round'])['AvgLapTimeSec'].transform(lambda x: x.fillna(x.median()))\n",
    "global_median_laptime = race_df['AvgLapTimeSec'].median()\n",
    "race_df['AvgLapTimeSec'].fillna(global_median_laptime, inplace=True)\n",
    "print(f\"Remaining AvgLapTimeSec NaNs filled with global median: {global_median_laptime:.3f}\")"
   ]
  },
  {
   "cell_type": "code",
   "execution_count": 9,
   "id": "d0cbed03",
   "metadata": {},
   "outputs": [
    {
     "name": "stdout",
     "output_type": "stream",
     "text": [
      "Imputed PositionsGained NaNs with 0.\n"
     ]
    },
    {
     "name": "stderr",
     "output_type": "stream",
     "text": [
      "C:\\Users\\domin\\AppData\\Local\\Temp\\ipykernel_28128\\1079114945.py:2: FutureWarning: A value is trying to be set on a copy of a DataFrame or Series through chained assignment using an inplace method.\n",
      "The behavior will change in pandas 3.0. This inplace method will never work because the intermediate object on which we are setting values always behaves as a copy.\n",
      "\n",
      "For example, when doing 'df[col].method(value, inplace=True)', try using 'df.method({col: value}, inplace=True)' or df[col] = df[col].method(value) instead, to perform the operation inplace on the original object.\n",
      "\n",
      "\n",
      "  race_df['PositionsGained'].fillna(median_pos_gained, inplace=True)\n"
     ]
    }
   ],
   "source": [
    "median_pos_gained = 0 # Or calculate race_df['PositionsGained'].median() if preferred\n",
    "race_df['PositionsGained'].fillna(median_pos_gained, inplace=True)\n",
    "print(f\"Imputed PositionsGained NaNs with {median_pos_gained}.\")"
   ]
  },
  {
   "cell_type": "code",
   "execution_count": 10,
   "id": "caebe8eb",
   "metadata": {},
   "outputs": [
    {
     "name": "stdout",
     "output_type": "stream",
     "text": [
      "Imputed GridPositionCalc NaNs with median: 10.0\n"
     ]
    },
    {
     "name": "stderr",
     "output_type": "stream",
     "text": [
      "C:\\Users\\domin\\AppData\\Local\\Temp\\ipykernel_28128\\2977549689.py:2: FutureWarning: A value is trying to be set on a copy of a DataFrame or Series through chained assignment using an inplace method.\n",
      "The behavior will change in pandas 3.0. This inplace method will never work because the intermediate object on which we are setting values always behaves as a copy.\n",
      "\n",
      "For example, when doing 'df[col].method(value, inplace=True)', try using 'df.method({col: value}, inplace=True)' or df[col] = df[col].method(value) instead, to perform the operation inplace on the original object.\n",
      "\n",
      "\n",
      "  race_df['GridPositionCalc'].fillna(median_grid_pos, inplace=True)\n"
     ]
    }
   ],
   "source": [
    "median_grid_pos = race_df['GridPositionCalc'].median()\n",
    "race_df['GridPositionCalc'].fillna(median_grid_pos, inplace=True)\n",
    "print(f\"Imputed GridPositionCalc NaNs with median: {median_grid_pos:.1f}\")"
   ]
  },
  {
   "cell_type": "code",
   "execution_count": 11,
   "id": "01e6fc68",
   "metadata": {},
   "outputs": [
    {
     "name": "stdout",
     "output_type": "stream",
     "text": [
      "Imputed FinishPosition NaNs with median: 10.0\n"
     ]
    },
    {
     "name": "stderr",
     "output_type": "stream",
     "text": [
      "C:\\Users\\domin\\AppData\\Local\\Temp\\ipykernel_28128\\48096444.py:2: FutureWarning: A value is trying to be set on a copy of a DataFrame or Series through chained assignment using an inplace method.\n",
      "The behavior will change in pandas 3.0. This inplace method will never work because the intermediate object on which we are setting values always behaves as a copy.\n",
      "\n",
      "For example, when doing 'df[col].method(value, inplace=True)', try using 'df.method({col: value}, inplace=True)' or df[col] = df[col].method(value) instead, to perform the operation inplace on the original object.\n",
      "\n",
      "\n",
      "  race_df['FinishPosition'].fillna(median_finish_pos, inplace=True)\n"
     ]
    }
   ],
   "source": [
    "median_finish_pos = race_df['FinishPosition'].median()\n",
    "race_df['FinishPosition'].fillna(median_finish_pos, inplace=True)\n",
    "print(f\"Imputed FinishPosition NaNs with median: {median_finish_pos:.1f}\")"
   ]
  },
  {
   "cell_type": "code",
   "execution_count": 12,
   "id": "8e030cc0",
   "metadata": {},
   "outputs": [
    {
     "name": "stdout",
     "output_type": "stream",
     "text": [
      "Created 'DidFinish' column.\n"
     ]
    }
   ],
   "source": [
    "finished_statuses = ['Finished', '+1 Lap', '+2 Laps', '+3 Laps', '+4 Laps', '+5 Laps', '+6 Laps'] # Add more if needed\n",
    "race_df['DidFinish'] = race_df['Status'].apply(lambda x: 1 if x in finished_statuses else 0)\n",
    "print(\"Created 'DidFinish' column.\")"
   ]
  },
  {
   "cell_type": "code",
   "execution_count": 13,
   "id": "8d1fea27",
   "metadata": {},
   "outputs": [
    {
     "name": "stdout",
     "output_type": "stream",
     "text": [
      "Sorted DataFrame by Season, Round, DriverId.\n"
     ]
    }
   ],
   "source": [
    "race_df.sort_values(by=['Season', 'Round', 'DriverId'], inplace=True)\n",
    "print(\"Sorted DataFrame by Season, Round, DriverId.\")"
   ]
  },
  {
   "cell_type": "markdown",
   "id": "6390d1a9",
   "metadata": {},
   "source": [
    "# --- 3. Create Cumulative/Expanding Features ---"
   ]
  },
  {
   "cell_type": "code",
   "execution_count": 14,
   "id": "bf87dc8e",
   "metadata": {},
   "outputs": [
    {
     "name": "stdout",
     "output_type": "stream",
     "text": [
      "Calculated expanding features (cumulative points, avg finish, avg grid, finish rate, etc.).\n"
     ]
    }
   ],
   "source": [
    "grouped = race_df.groupby(['Season', 'DriverId'])\n",
    "\n",
    "race_df['CumulativePoints'] = grouped['PointsGained'].transform(lambda x: x.shift(1).expanding(min_periods=1).sum()).fillna(0)\n",
    "\n",
    "race_df['AvgPoints'] = grouped['PointsGained'].transform(lambda x: x.shift(1).expanding(min_periods=1).mean()).fillna(0)\n",
    "\n",
    "race_df['AvgFinishPos'] = grouped['FinishPosition'].transform(lambda x: x.shift(1).expanding(min_periods=1).mean()).fillna(race_df['FinishPosition'].median()) # Fill initial NaNs\n",
    "\n",
    "race_df['AvgGridPos'] = grouped['GridPositionCalc'].transform(lambda x: x.shift(1).expanding(min_periods=1).mean()).fillna(race_df['GridPositionCalc'].median())\n",
    "\n",
    "race_df['AvgPosGained'] = grouped['PositionsGained'].transform(lambda x: x.shift(1).expanding(min_periods=1).mean()).fillna(0)\n",
    "\n",
    "race_df['RaceCount'] = grouped.cumcount()\n",
    "\n",
    "race_df['FinishRate'] = grouped['DidFinish'].transform(lambda x: x.shift(1).expanding(min_periods=1).mean()).fillna(1.0) # Assume 100% initially\n",
    "\n",
    "race_df['DNFCount'] = grouped['DidFinish'].transform(lambda x: (1 - x.shift(1)).expanding(min_periods=1).sum()).fillna(0)\n",
    "\n",
    "race_df['StdDevFinishPos'] = grouped['FinishPosition'].transform(lambda x: x.shift(1).expanding(min_periods=2).std()).fillna(0) # Need min 2 periods for std dev\n",
    "\n",
    "race_df['Wins'] = grouped['FinishPosition'].transform(lambda x: (x.shift(1) == 1).expanding(min_periods=1).sum()).fillna(0)\n",
    "race_df['Podiums'] = grouped['FinishPosition'].transform(lambda x: (x.shift(1) <= 3).expanding(min_periods=1).sum()).fillna(0)\n",
    "race_df['Top10s'] = grouped['FinishPosition'].transform(lambda x: (x.shift(1) <= 10).expanding(min_periods=1).sum()).fillna(0)\n",
    "\n",
    "print(\"Calculated expanding features (cumulative points, avg finish, avg grid, finish rate, etc.).\")"
   ]
  },
  {
   "cell_type": "markdown",
   "id": "bf82305b",
   "metadata": {},
   "source": [
    "# --- 4. Create Rolling Features (Recent Form) ---"
   ]
  },
  {
   "cell_type": "code",
   "execution_count": 15,
   "id": "e3b39693",
   "metadata": {},
   "outputs": [
    {
     "name": "stdout",
     "output_type": "stream",
     "text": [
      "Calculated rolling features for last 5 races.\n"
     ]
    }
   ],
   "source": [
    "window_size = 5\n",
    "\n",
    "race_df[f'PointsLast{window_size}'] = grouped['PointsGained'].transform(lambda x: x.shift(1).rolling(window=window_size, min_periods=1).sum()).fillna(0)\n",
    "\n",
    "race_df[f'AvgFinishLast{window_size}'] = grouped['FinishPosition'].transform(lambda x: x.shift(1).rolling(window=window_size, min_periods=1).mean()).fillna(race_df['FinishPosition'].median())\n",
    "\n",
    "race_df[f'AvgGridLast{window_size}'] = grouped['GridPositionCalc'].transform(lambda x: x.shift(1).rolling(window=window_size, min_periods=1).mean()).fillna(race_df['GridPositionCalc'].median())\n",
    "\n",
    "race_df[f'FinishRateLast{window_size}'] = grouped['DidFinish'].transform(lambda x: x.shift(1).rolling(window=window_size, min_periods=1).mean()).fillna(1.0)\n",
    "\n",
    "race_df[f'DNFCountLast{window_size}'] = grouped['DidFinish'].transform(lambda x: (1 - x.shift(1)).rolling(window=window_size, min_periods=1).sum()).fillna(0)\n",
    "\n",
    "print(f\"Calculated rolling features for last {window_size} races.\")"
   ]
  },
  {
   "cell_type": "markdown",
   "id": "f2cef9b0",
   "metadata": {},
   "source": [
    "# --- 5. Add Lagged Features (Previous Season Performance) ---"
   ]
  },
  {
   "cell_type": "code",
   "execution_count": 16,
   "id": "fbbd1237",
   "metadata": {},
   "outputs": [
    {
     "name": "stdout",
     "output_type": "stream",
     "text": [
      "Merged previous season standings data.\n"
     ]
    },
    {
     "name": "stderr",
     "output_type": "stream",
     "text": [
      "C:\\Users\\domin\\AppData\\Local\\Temp\\ipykernel_28128\\507705280.py:12: FutureWarning: A value is trying to be set on a copy of a DataFrame or Series through chained assignment using an inplace method.\n",
      "The behavior will change in pandas 3.0. This inplace method will never work because the intermediate object on which we are setting values always behaves as a copy.\n",
      "\n",
      "For example, when doing 'df[col].method(value, inplace=True)', try using 'df.method({col: value}, inplace=True)' or df[col] = df[col].method(value) instead, to perform the operation inplace on the original object.\n",
      "\n",
      "\n",
      "  race_df['PrevSeasonRank'].fillna(25, inplace=True)\n",
      "C:\\Users\\domin\\AppData\\Local\\Temp\\ipykernel_28128\\507705280.py:13: FutureWarning: A value is trying to be set on a copy of a DataFrame or Series through chained assignment using an inplace method.\n",
      "The behavior will change in pandas 3.0. This inplace method will never work because the intermediate object on which we are setting values always behaves as a copy.\n",
      "\n",
      "For example, when doing 'df[col].method(value, inplace=True)', try using 'df.method({col: value}, inplace=True)' or df[col] = df[col].method(value) instead, to perform the operation inplace on the original object.\n",
      "\n",
      "\n",
      "  race_df['PrevSeasonPoints'].fillna(0, inplace=True)\n",
      "C:\\Users\\domin\\AppData\\Local\\Temp\\ipykernel_28128\\507705280.py:14: FutureWarning: A value is trying to be set on a copy of a DataFrame or Series through chained assignment using an inplace method.\n",
      "The behavior will change in pandas 3.0. This inplace method will never work because the intermediate object on which we are setting values always behaves as a copy.\n",
      "\n",
      "For example, when doing 'df[col].method(value, inplace=True)', try using 'df.method({col: value}, inplace=True)' or df[col] = df[col].method(value) instead, to perform the operation inplace on the original object.\n",
      "\n",
      "\n",
      "  race_df['PrevSeasonWins'].fillna(0, inplace=True)\n"
     ]
    }
   ],
   "source": [
    "standings_lag = standings_df[['Season', 'DriverId', 'position', 'points', 'wins']].copy()\n",
    "standings_lag.rename(columns={\n",
    "    'position': 'PrevSeasonRank',\n",
    "    'points': 'PrevSeasonPoints',\n",
    "    'wins': 'PrevSeasonWins'\n",
    "}, inplace=True)\n",
    "\n",
    "standings_lag['Season'] = standings_lag['Season'] + 1\n",
    "\n",
    "race_df = pd.merge(race_df, standings_lag, on=['Season', 'DriverId'], how='left')\n",
    "\n",
    "race_df['PrevSeasonRank'].fillna(25, inplace=True)\n",
    "race_df['PrevSeasonPoints'].fillna(0, inplace=True)\n",
    "race_df['PrevSeasonWins'].fillna(0, inplace=True)\n",
    "\n",
    "print(\"Merged previous season standings data.\")"
   ]
  },
  {
   "cell_type": "markdown",
   "id": "adc6547e",
   "metadata": {},
   "source": [
    "# --- 6. Define the Target Variable ---"
   ]
  },
  {
   "cell_type": "code",
   "execution_count": 17,
   "id": "be5211b7",
   "metadata": {},
   "outputs": [
    {
     "name": "stdout",
     "output_type": "stream",
     "text": [
      "Merged final season standings as target variables (FinalRank, FinalPoints).\n"
     ]
    },
    {
     "name": "stderr",
     "output_type": "stream",
     "text": [
      "C:\\Users\\domin\\AppData\\Local\\Temp\\ipykernel_28128\\4241360974.py:9: FutureWarning: A value is trying to be set on a copy of a DataFrame or Series through chained assignment using an inplace method.\n",
      "The behavior will change in pandas 3.0. This inplace method will never work because the intermediate object on which we are setting values always behaves as a copy.\n",
      "\n",
      "For example, when doing 'df[col].method(value, inplace=True)', try using 'df.method({col: value}, inplace=True)' or df[col] = df[col].method(value) instead, to perform the operation inplace on the original object.\n",
      "\n",
      "\n",
      "  final_df['FinalRank'].fillna(final_df['FinalRank'].max() + 1, inplace=True)\n",
      "C:\\Users\\domin\\AppData\\Local\\Temp\\ipykernel_28128\\4241360974.py:10: FutureWarning: A value is trying to be set on a copy of a DataFrame or Series through chained assignment using an inplace method.\n",
      "The behavior will change in pandas 3.0. This inplace method will never work because the intermediate object on which we are setting values always behaves as a copy.\n",
      "\n",
      "For example, when doing 'df[col].method(value, inplace=True)', try using 'df.method({col: value}, inplace=True)' or df[col] = df[col].method(value) instead, to perform the operation inplace on the original object.\n",
      "\n",
      "\n",
      "  final_df['FinalPoints'].fillna(0, inplace=True)\n"
     ]
    }
   ],
   "source": [
    "target_standings = standings_df[['Season', 'DriverId', 'position', 'points']].copy()\n",
    "target_standings.rename(columns={\n",
    "    'position': 'FinalRank',\n",
    "    'points': 'FinalPoints'\n",
    "}, inplace=True)\n",
    "\n",
    "final_df = pd.merge(race_df, target_standings, on=['Season', 'DriverId'], how='left')\n",
    "\n",
    "final_df['FinalRank'].fillna(final_df['FinalRank'].max() + 1, inplace=True)\n",
    "final_df['FinalPoints'].fillna(0, inplace=True)\n",
    "\n",
    "print(\"Merged final season standings as target variables (FinalRank, FinalPoints).\")"
   ]
  },
  {
   "cell_type": "markdown",
   "id": "4f8962ca",
   "metadata": {},
   "source": [
    "# --- Final Check ---"
   ]
  },
  {
   "cell_type": "code",
   "execution_count": 18,
   "id": "22c2a16d",
   "metadata": {},
   "outputs": [
    {
     "name": "stdout",
     "output_type": "stream",
     "text": [
      "Final DataFrame shape: (1756, 29)\n",
      "\n",
      "Final DataFrame Head:\n",
      "   Season  Round           EventName DriverId        TeamId  RaceCount  \\\n",
      "0    2023      1  Bahrain Grand Prix    albon      williams          0   \n",
      "1    2023      1  Bahrain Grand Prix    albon      williams          0   \n",
      "2    2023      1  Bahrain Grand Prix    albon      williams          1   \n",
      "3    2023      1  Bahrain Grand Prix    albon      williams          1   \n",
      "4    2023      1  Bahrain Grand Prix   alonso  aston_martin          0   \n",
      "\n",
      "   DidFinish  PitLaneStart  CumulativePoints  AvgPoints  ...  PointsLast5  \\\n",
      "0          1             0               0.0        0.0  ...          0.0   \n",
      "1          1             0               0.0        0.0  ...          0.0   \n",
      "2          1             0               1.0        1.0  ...          1.0   \n",
      "3          1             0               1.0        1.0  ...          1.0   \n",
      "4          1             0               0.0        0.0  ...          0.0   \n",
      "\n",
      "   AvgFinishLast5  AvgGridLast5  FinishRateLast5  DNFCountLast5  \\\n",
      "0            10.0          10.0              1.0            0.0   \n",
      "1            10.0          10.0              1.0            0.0   \n",
      "2            10.0          15.0              1.0            0.0   \n",
      "3            10.0          15.0              1.0            0.0   \n",
      "4            10.0          10.0              1.0            0.0   \n",
      "\n",
      "   PrevSeasonRank  PrevSeasonPoints  PrevSeasonWins  FinalRank  FinalPoints  \n",
      "0            25.0               0.0             0.0         13         27.0  \n",
      "1            25.0               0.0             0.0         13         27.0  \n",
      "2            25.0               0.0             0.0         13         27.0  \n",
      "3            25.0               0.0             0.0         13         27.0  \n",
      "4            25.0               0.0             0.0          4        206.0  \n",
      "\n",
      "[5 rows x 29 columns]\n",
      "\n",
      "Final DataFrame Info:\n",
      "<class 'pandas.core.frame.DataFrame'>\n",
      "RangeIndex: 1756 entries, 0 to 1755\n",
      "Data columns (total 29 columns):\n",
      " #   Column            Non-Null Count  Dtype  \n",
      "---  ------            --------------  -----  \n",
      " 0   Season            1756 non-null   int64  \n",
      " 1   Round             1756 non-null   int64  \n",
      " 2   EventName         1756 non-null   object \n",
      " 3   DriverId          1756 non-null   object \n",
      " 4   TeamId            1756 non-null   object \n",
      " 5   RaceCount         1756 non-null   int64  \n",
      " 6   DidFinish         1756 non-null   int64  \n",
      " 7   PitLaneStart      1756 non-null   int64  \n",
      " 8   CumulativePoints  1756 non-null   float64\n",
      " 9   AvgPoints         1756 non-null   float64\n",
      " 10  AvgFinishPos      1756 non-null   float64\n",
      " 11  AvgGridPos        1756 non-null   float64\n",
      " 12  AvgPosGained      1756 non-null   float64\n",
      " 13  FinishRate        1756 non-null   float64\n",
      " 14  DNFCount          1756 non-null   float64\n",
      " 15  StdDevFinishPos   1756 non-null   float64\n",
      " 16  Wins              1756 non-null   float64\n",
      " 17  Podiums           1756 non-null   float64\n",
      " 18  Top10s            1756 non-null   float64\n",
      " 19  PointsLast5       1756 non-null   float64\n",
      " 20  AvgFinishLast5    1756 non-null   float64\n",
      " 21  AvgGridLast5      1756 non-null   float64\n",
      " 22  FinishRateLast5   1756 non-null   float64\n",
      " 23  DNFCountLast5     1756 non-null   float64\n",
      " 24  PrevSeasonRank    1756 non-null   float64\n",
      " 25  PrevSeasonPoints  1756 non-null   float64\n",
      " 26  PrevSeasonWins    1756 non-null   float64\n",
      " 27  FinalRank         1756 non-null   int64  \n",
      " 28  FinalPoints       1756 non-null   float64\n",
      "dtypes: float64(20), int64(6), object(3)\n",
      "memory usage: 398.0+ KB\n",
      "\n",
      "Checking for remaining NaNs in final features:\n",
      "Season              0\n",
      "Round               0\n",
      "EventName           0\n",
      "DriverId            0\n",
      "TeamId              0\n",
      "RaceCount           0\n",
      "DidFinish           0\n",
      "PitLaneStart        0\n",
      "CumulativePoints    0\n",
      "AvgPoints           0\n",
      "AvgFinishPos        0\n",
      "AvgGridPos          0\n",
      "AvgPosGained        0\n",
      "FinishRate          0\n",
      "DNFCount            0\n",
      "StdDevFinishPos     0\n",
      "Wins                0\n",
      "Podiums             0\n",
      "Top10s              0\n",
      "PointsLast5         0\n",
      "AvgFinishLast5      0\n",
      "AvgGridLast5        0\n",
      "FinishRateLast5     0\n",
      "DNFCountLast5       0\n",
      "PrevSeasonRank      0\n",
      "PrevSeasonPoints    0\n",
      "PrevSeasonWins      0\n",
      "FinalRank           0\n",
      "FinalPoints         0\n",
      "dtype: int64\n",
      "\n",
      "Engineered features saved to f1_engineered_features_2023.csv\n"
     ]
    }
   ],
   "source": [
    "feature_cols = [\n",
    "    # Identifiers\n",
    "    'Season', 'Round', 'EventName', 'DriverId', 'TeamId',\n",
    "    # Raw Current Race Results (Careful about using these directly as features!)\n",
    "    # 'GridPosition', 'FinishPosition', 'PositionsGained', 'PointsGained', 'AvgLapTimeSec', 'Status',\n",
    "    # Base Calculated\n",
    "    'RaceCount', 'DidFinish', 'PitLaneStart',\n",
    "    # Cumulative Features\n",
    "    'CumulativePoints', 'AvgPoints', 'AvgFinishPos', 'AvgGridPos', 'AvgPosGained',\n",
    "    'FinishRate', 'DNFCount', 'StdDevFinishPos', 'Wins', 'Podiums', 'Top10s',\n",
    "    # Rolling Features\n",
    "    f'PointsLast{window_size}', f'AvgFinishLast{window_size}', f'AvgGridLast{window_size}',\n",
    "    f'FinishRateLast{window_size}', f'DNFCountLast{window_size}',\n",
    "    # Lagged Features\n",
    "    'PrevSeasonRank', 'PrevSeasonPoints', 'PrevSeasonWins',\n",
    "    # Target Variables\n",
    "    'FinalRank', 'FinalPoints'\n",
    "]\n",
    "final_df = final_df[feature_cols]\n",
    "\n",
    "print(f\"Final DataFrame shape: {final_df.shape}\")\n",
    "print(\"\\nFinal DataFrame Head:\")\n",
    "print(final_df.head())\n",
    "print(\"\\nFinal DataFrame Info:\")\n",
    "final_df.info()\n",
    "print(\"\\nChecking for remaining NaNs in final features:\")\n",
    "print(final_df.isnull().sum())\n",
    "\n",
    "final_df.to_csv('csv/f1_engineered_features_2023.csv', index=False)\n",
    "print(\"\\nEngineered features saved to f1_engineered_features_2023.csv\")"
   ]
  }
 ],
 "metadata": {
  "kernelspec": {
   "display_name": "Python 3",
   "language": "python",
   "name": "python3"
  },
  "language_info": {
   "codemirror_mode": {
    "name": "ipython",
    "version": 3
   },
   "file_extension": ".py",
   "mimetype": "text/x-python",
   "name": "python",
   "nbconvert_exporter": "python",
   "pygments_lexer": "ipython3",
   "version": "3.13.2"
  }
 },
 "nbformat": 4,
 "nbformat_minor": 5
}
